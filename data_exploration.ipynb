{
 "cells": [
  {
   "cell_type": "markdown",
   "id": "d1575c1f-a5d6-4b5d-a0a3-d8c0f5bcece4",
   "metadata": {},
   "source": [
    "# Data Exploration\n",
    "## Data Description\n"
   ]
  },
  {
   "cell_type": "code",
   "execution_count": 1,
   "id": "24540ba0-899e-4f18-8ec8-5e9695bfc144",
   "metadata": {},
   "outputs": [
    {
     "name": "stdout",
     "output_type": "stream",
     "text": [
      "['Test', 'Train']\n"
     ]
    }
   ],
   "source": [
    "import os\n",
    "from tqdm import tqdm\n",
    "\n",
    "data_dir = \"./data/Alzheimer's MRI\"\n",
    "dirs = os.listdir(data_dir)\n",
    "print(dirs)"
   ]
  },
  {
   "cell_type": "code",
   "execution_count": 2,
   "id": "d3419b2f-64e8-4d1e-93a9-7a157555f465",
   "metadata": {},
   "outputs": [
    {
     "name": "stdout",
     "output_type": "stream",
     "text": [
      "['Mild', 'Moderate', 'Non']\n"
     ]
    }
   ],
   "source": [
    "train_dir = data_dir + '/Train'\n",
    "test_dir = data_dir + '/Test'\n",
    "class_names = os.listdir(\"./data/Alzheimer's MRI/Train\")\n",
    "print(class_names)"
   ]
  },
  {
   "cell_type": "code",
   "execution_count": null,
   "id": "7cbf7fc9-b557-460c-888e-9b07e8dd5bad",
   "metadata": {},
   "outputs": [],
   "source": []
  },
  {
   "cell_type": "code",
   "execution_count": null,
   "id": "e511a8b3-6907-4525-b89c-26a519fff487",
   "metadata": {},
   "outputs": [],
   "source": []
  },
  {
   "cell_type": "markdown",
   "id": "99b9362c-6fcc-4142-b619-d63755664eb5",
   "metadata": {},
   "source": [
    "## Data Preprocessing and Augmentation\n",
    "**DO NOT FORGET TO BACKUP ANY DATA BEFORE THIS PROCESS！**\n",
    "Use function ImageDataGenerator to do data preprocessing."
   ]
  },
  {
   "cell_type": "code",
   "execution_count": 23,
   "id": "54f433e8-55c7-4cac-b35f-91079945e1d6",
   "metadata": {},
   "outputs": [
    {
     "name": "stdout",
     "output_type": "stream",
     "text": [
      "A dataset with the same name has existed!\n"
     ]
    }
   ],
   "source": [
    "from tensorflow.keras.preprocessing.image import ImageDataGenerator\n",
    "import os\n",
    "from tqdm import tqdm\n",
    "\n",
    "def augment_and_save_images(input_directory, output_directory, batch_size):\n",
    "    # make sure there is a valid directory \n",
    "    if not os.path.exists(output_directory):\n",
    "        os.makedirs(output_directory)\n",
    "    else:\n",
    "        print(\"A dataset with the same name has existed!\\n\")# without doing so, there \n",
    "        choice = input(\"Input 1 to augment the dataset\")\n",
    "        if choice == \"1\":\n",
    "            print(\"Data augmentation begins...\\n\")\n",
    "        else:\n",
    "            print(\"Process stop.\")\n",
    "            return None\n",
    "    # define the image generator\n",
    "    datagen = ImageDataGenerator(\n",
    "        brightness_range=[0.8, 1.2],\n",
    "        rotation_range=5,\n",
    "        zoom_range=[0.99, 1.01],\n",
    "        horizontal_flip=True,\n",
    "        fill_mode=\"constant\",\n",
    "        data_format=\"channels_last\"\n",
    "    )\n",
    "\n",
    "    # do the augmentation for each class\n",
    "    for i, one_class in enumerate(os.listdir(input_directory)):\n",
    "        if not os.path.exists(output_directory+ f'/{one_class}'):\n",
    "            os.makedirs(output_directory+ f'/{one_class}')\n",
    "        img_gen = datagen.flow_from_directory(\n",
    "            input_directory,\n",
    "            target_size = (224, 224),\n",
    "            batch_size = batch_size,\n",
    "            class_mode = 'categorical',\n",
    "            classes = [one_class],\n",
    "            save_to_dir = output_directory + f'/{one_class}',\n",
    "            save_prefix = '',\n",
    "            save_format = 'png'\n",
    "      )\n",
    "        for i in tqdm(range(len(img_gen))):\n",
    "            batch_images = next(img_gen)\n",
    "    print(f\"Data augmentation completed and images have been saved in {output_directory}.\")\n",
    "\n",
    "# call the function and finish the augmentation\n",
    "input_train = \"./data/Alzheimer's MRI/Train\"\n",
    "output_train = \"./data/aug_data_224/Train\"\n",
    "augment_and_save_images(input_train, output_train, 16)"
   ]
  },
  {
   "cell_type": "code",
   "execution_count": 9,
   "id": "b9c27f14-6fe5-41ed-b7cb-e888fdce654c",
   "metadata": {},
   "outputs": [
    {
     "name": "stdout",
     "output_type": "stream",
     "text": [
      "Found 2240 images belonging to 1 classes.\n"
     ]
    },
    {
     "name": "stderr",
     "output_type": "stream",
     "text": [
      "100%|████████████████████████████████████████████████████████████████████████████████| 140/140 [00:30<00:00,  4.56it/s]\n"
     ]
    },
    {
     "name": "stdout",
     "output_type": "stream",
     "text": [
      "Found 948 images belonging to 1 classes.\n"
     ]
    },
    {
     "name": "stderr",
     "output_type": "stream",
     "text": [
      "100%|██████████████████████████████████████████████████████████████████████████████████| 60/60 [00:13<00:00,  4.59it/s]\n"
     ]
    },
    {
     "name": "stdout",
     "output_type": "stream",
     "text": [
      "Found 3200 images belonging to 1 classes.\n"
     ]
    },
    {
     "name": "stderr",
     "output_type": "stream",
     "text": [
      "100%|████████████████████████████████████████████████████████████████████████████████| 200/200 [00:43<00:00,  4.59it/s]"
     ]
    },
    {
     "name": "stdout",
     "output_type": "stream",
     "text": [
      "Data augmentation completed and images have been saved in ./data/aug_data_224/Test.\n"
     ]
    },
    {
     "name": "stderr",
     "output_type": "stream",
     "text": [
      "\n"
     ]
    }
   ],
   "source": [
    "input_test = \"./data/Alzheimer's MRI/Test\"\n",
    "output_test = \"./data/aug_data_224/Test\"\n",
    "augment_and_save_images(input_test, output_test, 16)"
   ]
  },
  {
   "cell_type": "markdown",
   "id": "44587e01-4d75-42c9-b4ba-999995034b3b",
   "metadata": {},
   "source": []
  },
  {
   "cell_type": "markdown",
   "id": "3b0373e7-1c2d-49bd-8ead-07be7b68867b",
   "metadata": {},
   "source": [
    "## Calculate the average pixel density"
   ]
  },
  {
   "cell_type": "code",
   "execution_count": null,
   "id": "85a28d6e-bf13-48dc-8901-baaad724bd63",
   "metadata": {},
   "outputs": [],
   "source": []
  },
  {
   "cell_type": "code",
   "execution_count": 1,
   "id": "1935eda0-1538-4eff-9b8d-b5c00513af1b",
   "metadata": {},
   "outputs": [
    {
     "name": "stdout",
     "output_type": "stream",
     "text": [
      "processing images in ./data/Alzheimer's MRI/Train/Mild:\n",
      "\n"
     ]
    },
    {
     "name": "stderr",
     "output_type": "stream",
     "text": [
      "100%|████████████████████████████████████████████████████████████████████████████| 8960/8960 [00:03<00:00, 2241.36it/s]\n"
     ]
    },
    {
     "name": "stdout",
     "output_type": "stream",
     "text": [
      "processing images in ./data/Alzheimer's MRI/Train/Moderate:\n",
      "\n"
     ]
    },
    {
     "name": "stderr",
     "output_type": "stream",
     "text": [
      "100%|██████████████████████████████████████████████████████████████████████████| 15424/15424 [00:06<00:00, 2230.70it/s]\n"
     ]
    },
    {
     "name": "stdout",
     "output_type": "stream",
     "text": [
      "processing images in ./data/Alzheimer's MRI/Train/Non:\n",
      "\n"
     ]
    },
    {
     "name": "stderr",
     "output_type": "stream",
     "text": [
      "100%|████████████████████████████████████████████████████████████████████████████| 9600/9600 [00:04<00:00, 2268.25it/s]\n"
     ]
    },
    {
     "name": "stdout",
     "output_type": "stream",
     "text": [
      "processing images in ./data/Alzheimer's MRI/Test/Mild:\n",
      "\n"
     ]
    },
    {
     "name": "stderr",
     "output_type": "stream",
     "text": [
      "100%|████████████████████████████████████████████████████████████████████████████| 2240/2240 [00:00<00:00, 3196.92it/s]\n"
     ]
    },
    {
     "name": "stdout",
     "output_type": "stream",
     "text": [
      "processing images in ./data/Alzheimer's MRI/Test/Moderate:\n",
      "\n"
     ]
    },
    {
     "name": "stderr",
     "output_type": "stream",
     "text": [
      "100%|██████████████████████████████████████████████████████████████████████████████| 948/948 [00:00<00:00, 3248.07it/s]\n"
     ]
    },
    {
     "name": "stdout",
     "output_type": "stream",
     "text": [
      "processing images in ./data/Alzheimer's MRI/Test/Non:\n",
      "\n"
     ]
    },
    {
     "name": "stderr",
     "output_type": "stream",
     "text": [
      "100%|████████████████████████████████████████████████████████████████████████████| 3200/3200 [00:00<00:00, 3258.42it/s]\n"
     ]
    }
   ],
   "source": [
    "import os, cv2\n",
    "import numpy as np\n",
    "from tqdm import tqdm\n",
    "def mean_value(dir):\n",
    "    class_names = os.listdir(dir)\n",
    "    #create 3 list to store mean values of imgs in each class \n",
    "    mild = []\n",
    "    moderate = []\n",
    "    non = []\n",
    "    for a_class in class_names:\n",
    "        temp_dir = dir + '/' + a_class\n",
    "        print(f'processing images in {temp_dir}:\\n')\n",
    "        for filename in tqdm(os.listdir(temp_dir)):\n",
    "            image_path = os.path.join(temp_dir, filename)\n",
    "            img_array = cv2.imread(image_path).astype(np.float32)\n",
    "            pixel_value = img_array.sum(axis=(0, 1, 2))\n",
    "            num_of_pixel = img_array.shape[0] * img_array.shape[1]\n",
    "            mean_value =  pixel_value / num_of_pixel\n",
    "            #mean_value = pixel_value\n",
    "            #pixel normalization, 3 channels\n",
    "            #mean_value =  mean_value / (255*3)\n",
    "            if a_class == 'Mild':\n",
    "                mild.append(mean_value)\n",
    "            elif a_class == 'Moderate':\n",
    "                moderate.append(mean_value)\n",
    "            elif a_class == 'Non':\n",
    "                non.append(mean_value)\n",
    "    return mild, moderate, non\n",
    "mild_train, moderate_train, non_train = mean_value(\"./data/Alzheimer's MRI/Train\")\n",
    "mild_test, moderate_test, non_test = mean_value(\"./data/Alzheimer's MRI/Test\")\n",
    "\n"
   ]
  },
  {
   "cell_type": "markdown",
   "id": "0aa8b4c3-6498-4dfb-8dc8-f55c2a8501f2",
   "metadata": {},
   "source": []
  },
  {
   "cell_type": "markdown",
   "id": "3ef9a754-0212-4ede-af66-dd955303bfcc",
   "metadata": {},
   "source": [
    "# Print the distribution of average pixel density for each class "
   ]
  },
  {
   "cell_type": "code",
   "execution_count": 2,
   "id": "b63a65e6-fea2-4761-a826-b6b60838028a",
   "metadata": {},
   "outputs": [],
   "source": [
    "import matplotlib.pyplot as plt\n",
    "import numpy as np\n",
    "\n",
    "def print_hist(mean_value_1,mean_value_2,mean_value_3):\n",
    "    plt.figure(figsize=(6, 6))\n",
    "    # If density is True, the weights are normalized, so that the integral of the density over the range remains 1.\n",
    "    plt.hist(mean_value_1, bins=100, color='blue', alpha=0.6, density=True, label='Mild')\n",
    "    plt.hist(mean_value_2, bins=100, color='green', alpha=0.6, density=True, label='Moderate')\n",
    "    plt.hist(mean_value_3, bins=100, color='red', alpha=0.6, density=True, label='None')\n",
    "    \n",
    "    plt.xlabel('mean_value')\n",
    "    plt.ylabel('Frequency(normalized)')\n",
    "    plt.title('Mean value per pixel for 3 classes')\n",
    "    plt.legend()\n",
    "    plt.show()\n",
    "#print('Training set\\n')\n",
    "#print_hist(mild_train, moderate_train, non_train)\n",
    "#print('Test set\\n')\n",
    "#print_hist(mild_test, moderate_test, non_test)\n",
    "#print_hist(mild,moderate,non)"
   ]
  },
  {
   "cell_type": "markdown",
   "id": "db879e97-6da9-4133-9586-252b4e59d040",
   "metadata": {},
   "source": [
    "# KStest"
   ]
  },
  {
   "cell_type": "code",
   "execution_count": 3,
   "id": "ca271193-0578-40a7-8a6d-bc752c05e672",
   "metadata": {},
   "outputs": [],
   "source": [
    "import scipy.stats as stats\n",
    "def kstest(class_1,class_2,class_3):\n",
    "    # class1 and class2\n",
    "    #ks_statistic_1_2, p_value_1_2 = stats.ks_2samp(class_1, class_2,alternative='greater')\n",
    "    ks_statistic_1_2, p_value_1_2 = stats.ks_2samp(class_1, class_2)\n",
    "    # class1 and class3\n",
    "    #ks_statistic_1_3, p_value_1_3 = stats.ks_2samp(class_1, class_3,alternative='less')\n",
    "    ks_statistic_1_3, p_value_1_3 = stats.ks_2samp(class_1, class_3)\n",
    "    # class3 and class2\n",
    "    #ks_statistic_2_3, p_value_2_3 = stats.ks_2samp(class_2, class_3,alternative='less')\n",
    "    ks_statistic_2_3, p_value_2_3 = stats.ks_2samp(class_2, class_3)\n",
    "    \n",
    "    print(f\"Class 1 and 2\\nKS_statistic_1_2：{ks_statistic_1_2}, p_value_1_2: {p_value_1_2},\\n\")\n",
    "    print(f\"Class 1 and 3\\nKS_statistic_1_3: {ks_statistic_1_3}, p_value_1_3: {p_value_1_3},\\n\")\n",
    "    print(f\"Class 2 and 3\\nKS_statistic_2_3: {ks_statistic_2_3}, p_value_2_3: {p_value_2_3}\")\n"
   ]
  },
  {
   "cell_type": "markdown",
   "id": "b9a71929-316c-4bb4-8d4d-94adee017b49",
   "metadata": {},
   "source": [
    "# The distribution of average pixel density for each class of the original dataset  "
   ]
  },
  {
   "cell_type": "code",
   "execution_count": 4,
   "id": "409e9ea4-5d73-40c4-b040-f300c8a44f71",
   "metadata": {},
   "outputs": [
    {
     "data": {
      "image/png": "[encoded data removed]",
      "text/plain": [
       "<Figure size 600x600 with 1 Axes>"
      ]
     },
     "metadata": {},
     "output_type": "display_data"
    },
    {
     "name": "stdout",
     "output_type": "stream",
     "text": [
      "Class 1 and 2\n",
      "KS_statistic_1_2：0.134245423370912, p_value_1_2: 5.6013681181776565e-105,\n",
      "\n",
      "Class 1 and 3\n",
      "KS_statistic_1_3: 0.16284598214285717, p_value_1_3: 7.152248201183916e-139,\n",
      "\n",
      "Class 2 and 3\n",
      "KS_statistic_2_3: 0.2743002916564867, p_value_2_3: 0.0\n"
     ]
    }
   ],
   "source": [
    "mild = mild_train+mild_test\n",
    "moderate = moderate_train+moderate_test\n",
    "non = non_train+non_test\n",
    "print_hist(mild, moderate, non)\n",
    "kstest(mild, moderate, non)"
   ]
  },
  {
   "cell_type": "markdown",
   "id": "3bc3b8c2-09fe-422d-bf53-b85ee28ea042",
   "metadata": {},
   "source": [
    "# The distribution of average pixel density for each class of the dataset after preprocess "
   ]
  },
  {
   "cell_type": "code",
   "execution_count": 5,
   "id": "f34393b5-0dea-4b64-b82f-b6e7447342a2",
   "metadata": {},
   "outputs": [
    {
     "name": "stdout",
     "output_type": "stream",
     "text": [
      "processing images in ./data/aug_data_224/Train/Mild:\n",
      "\n"
     ]
    },
    {
     "name": "stderr",
     "output_type": "stream",
     "text": [
      "100%|█████████████████████████████████████████████████████████████████████████████| 8960/8960 [00:11<00:00, 751.44it/s]\n"
     ]
    },
    {
     "name": "stdout",
     "output_type": "stream",
     "text": [
      "processing images in ./data/aug_data_224/Train/Moderate:\n",
      "\n"
     ]
    },
    {
     "name": "stderr",
     "output_type": "stream",
     "text": [
      "100%|███████████████████████████████████████████████████████████████████████████| 15424/15424 [00:21<00:00, 717.56it/s]\n"
     ]
    },
    {
     "name": "stdout",
     "output_type": "stream",
     "text": [
      "processing images in ./data/aug_data_224/Train/Non:\n",
      "\n"
     ]
    },
    {
     "name": "stderr",
     "output_type": "stream",
     "text": [
      "100%|█████████████████████████████████████████████████████████████████████████████| 9600/9600 [00:12<00:00, 740.33it/s]\n"
     ]
    },
    {
     "name": "stdout",
     "output_type": "stream",
     "text": [
      "processing images in ./data/aug_data_224/Test/Mild:\n",
      "\n"
     ]
    },
    {
     "name": "stderr",
     "output_type": "stream",
     "text": [
      "100%|█████████████████████████████████████████████████████████████████████████████| 2240/2240 [00:02<00:00, 770.33it/s]\n"
     ]
    },
    {
     "name": "stdout",
     "output_type": "stream",
     "text": [
      "processing images in ./data/aug_data_224/Test/Moderate:\n",
      "\n"
     ]
    },
    {
     "name": "stderr",
     "output_type": "stream",
     "text": [
      "100%|███████████████████████████████████████████████████████████████████████████████| 948/948 [00:01<00:00, 779.41it/s]\n"
     ]
    },
    {
     "name": "stdout",
     "output_type": "stream",
     "text": [
      "processing images in ./data/aug_data_224/Test/Non:\n",
      "\n"
     ]
    },
    {
     "name": "stderr",
     "output_type": "stream",
     "text": [
      "100%|█████████████████████████████████████████████████████████████████████████████| 3200/3200 [00:04<00:00, 780.36it/s]\n"
     ]
    },
    {
     "data": {
      "image/png": "[encoded data removed]",
      "text/plain": [
       "<Figure size 600x600 with 1 Axes>"
      ]
     },
     "metadata": {},
     "output_type": "display_data"
    },
    {
     "name": "stdout",
     "output_type": "stream",
     "text": [
      "Class 1 and 2\n",
      "KS_statistic_1_2：0.10370916372901468, p_value_1_2: 9.956288816571795e-63,\n",
      "\n",
      "Class 1 and 3\n",
      "KS_statistic_1_3: 0.1559486607142857, p_value_1_3: 2.484969404293947e-127,\n",
      "\n",
      "Class 2 and 3\n",
      "KS_statistic_2_3: 0.2551465153921329, p_value_2_3: 0.0\n"
     ]
    }
   ],
   "source": [
    "mild_train, moderate_train, non_train = mean_value(\"./data/aug_data_224/Train\")\n",
    "mild_test, moderate_test, non_test = mean_value(\"./data/aug_data_224/Test\")\n",
    "mild = mild_train+mild_test\n",
    "moderate = moderate_train+moderate_test\n",
    "non = non_train+non_test\n",
    "print_hist(mild, moderate, non)\n",
    "kstest(mild, moderate, non)"
   ]
  },
  {
   "cell_type": "code",
   "execution_count": null,
   "id": "f0f25e22-9496-4f6e-b5e0-b99ba3dc9b72",
   "metadata": {},
   "outputs": [],
   "source": []
  }
 ],
 "metadata": {
  "kernelspec": {
   "display_name": "tf",
   "language": "python",
   "name": "tf"
  },
  "language_info": {
   "codemirror_mode": {
    "name": "ipython",
    "version": 3
   },
   "file_extension": ".py",
   "mimetype": "text/x-python",
   "name": "python",
   "nbconvert_exporter": "python",
   "pygments_lexer": "ipython3",
   "version": "3.8.17"
  }
 },
 "nbformat": 4,
 "nbformat_minor": 5
}
